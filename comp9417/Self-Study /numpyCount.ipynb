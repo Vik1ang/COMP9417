{
 "cells": [
  {
   "cell_type": "markdown",
   "id": "prostate-shift",
   "metadata": {},
   "source": [
    "# 1. Numpy 计算数组中满足条件元素个数\n",
    "需求: 一亿个数字求出小于5000的数字题目"
   ]
  },
  {
   "cell_type": "markdown",
   "id": "precise-hands",
   "metadata": {},
   "source": [
    "## 1. 使用numpy的random模块生成一亿个数字 "
   ]
  },
  {
   "cell_type": "code",
   "execution_count": 2,
   "id": "alternate-tender",
   "metadata": {},
   "outputs": [],
   "source": [
    "import numpy as np"
   ]
  },
  {
   "cell_type": "code",
   "execution_count": 3,
   "id": "checked-gregory",
   "metadata": {},
   "outputs": [],
   "source": [
    "arr = np.random.randint(1, 10000, size=int(1e8))"
   ]
  },
  {
   "cell_type": "code",
   "execution_count": 4,
   "id": "sought-chick",
   "metadata": {},
   "outputs": [
    {
     "data": {
      "text/plain": [
       "array([8208, 6216,   83, 3518, 1919, 5491, 1048, 5207, 2664, 4837])"
      ]
     },
     "execution_count": 4,
     "metadata": {},
     "output_type": "execute_result"
    }
   ],
   "source": [
    "arr[:10]"
   ]
  },
  {
   "cell_type": "code",
   "execution_count": 5,
   "id": "shaped-network",
   "metadata": {},
   "outputs": [
    {
     "data": {
      "text/plain": [
       "100000000"
      ]
     },
     "execution_count": 5,
     "metadata": {},
     "output_type": "execute_result"
    }
   ],
   "source": [
    "arr.size"
   ]
  },
  {
   "cell_type": "markdown",
   "id": "handy-adult",
   "metadata": {},
   "source": [
    "## 2.使用python原生语法"
   ]
  },
  {
   "cell_type": "code",
   "execution_count": 6,
   "id": "manufactured-return",
   "metadata": {},
   "outputs": [],
   "source": [
    "pyarr = list(arr)"
   ]
  },
  {
   "cell_type": "code",
   "execution_count": 7,
   "id": "coordinate-configuration",
   "metadata": {},
   "outputs": [
    {
     "data": {
      "text/plain": [
       "49999014"
      ]
     },
     "execution_count": 7,
     "metadata": {},
     "output_type": "execute_result"
    }
   ],
   "source": [
    "len([x for x in pyarr if x > 5000])"
   ]
  },
  {
   "cell_type": "code",
   "execution_count": 8,
   "id": "opened-island",
   "metadata": {},
   "outputs": [
    {
     "name": "stdout",
     "output_type": "stream",
     "text": [
      "19.2 s ± 496 ms per loop (mean ± std. dev. of 7 runs, 1 loop each)\n"
     ]
    }
   ],
   "source": [
    "%timeit len([x for x in pyarr if x > 5000])"
   ]
  },
  {
   "cell_type": "markdown",
   "id": "artificial-grave",
   "metadata": {},
   "source": [
    "## 3. 使用numpy的向量化操作实现"
   ]
  },
  {
   "cell_type": "code",
   "execution_count": 9,
   "id": "coordinate-salad",
   "metadata": {},
   "outputs": [
    {
     "data": {
      "text/plain": [
       "49999014"
      ]
     },
     "execution_count": 9,
     "metadata": {},
     "output_type": "execute_result"
    }
   ],
   "source": [
    "arr[arr>5000].size"
   ]
  },
  {
   "cell_type": "code",
   "execution_count": 10,
   "id": "complimentary-mounting",
   "metadata": {},
   "outputs": [
    {
     "data": {
      "text/plain": [
       "array([ True,  True, False, False, False,  True, False,  True, False,\n",
       "       False])"
      ]
     },
     "execution_count": 10,
     "metadata": {},
     "output_type": "execute_result"
    }
   ],
   "source": [
    "(arr>5000)[:10]"
   ]
  },
  {
   "cell_type": "code",
   "execution_count": 11,
   "id": "funny-throw",
   "metadata": {},
   "outputs": [
    {
     "name": "stdout",
     "output_type": "stream",
     "text": [
      "893 ms ± 2.62 ms per loop (mean ± std. dev. of 7 runs, 1 loop each)\n"
     ]
    }
   ],
   "source": [
    "%timeit arr[arr>5000].size"
   ]
  },
  {
   "cell_type": "code",
   "execution_count": null,
   "id": "threaded-british",
   "metadata": {},
   "outputs": [],
   "source": []
  }
 ],
 "metadata": {
  "kernelspec": {
   "display_name": "Python 3",
   "language": "python",
   "name": "python3"
  },
  "language_info": {
   "codemirror_mode": {
    "name": "ipython",
    "version": 3
   },
   "file_extension": ".py",
   "mimetype": "text/x-python",
   "name": "python",
   "nbconvert_exporter": "python",
   "pygments_lexer": "ipython3",
   "version": "3.7.3"
  }
 },
 "nbformat": 4,
 "nbformat_minor": 5
}
