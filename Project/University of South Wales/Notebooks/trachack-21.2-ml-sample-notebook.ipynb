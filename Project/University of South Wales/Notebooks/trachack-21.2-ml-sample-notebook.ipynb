{
 "cells": [
  {
   "cell_type": "code",
   "execution_count": 5,
   "metadata": {
    "button": false,
    "collapsed": false,
    "deletable": true,
    "new_sheet": false,
    "run_control": {
     "read_only": false
    }
   },
   "outputs": [
    {
     "name": "stdout",
     "output_type": "stream",
     "text": [
      "Requirement already satisfied: pandas==1.0.3 in /opt/conda/lib/python3.7/site-packages (1.0.3)\n",
      "Requirement already satisfied: pytz>=2017.2 in /opt/conda/lib/python3.7/site-packages (from pandas==1.0.3) (2020.1)\n",
      "Requirement already satisfied: python-dateutil>=2.6.1 in /opt/conda/lib/python3.7/site-packages (from pandas==1.0.3) (2.8.1)\n",
      "Requirement already satisfied: numpy>=1.13.3 in /opt/conda/lib/python3.7/site-packages (from pandas==1.0.3) (1.19.2)\n",
      "Requirement already satisfied: six>=1.5 in /opt/conda/lib/python3.7/site-packages (from python-dateutil>=2.6.1->pandas==1.0.3) (1.14.0)\n",
      "\u001b[33mWARNING: You are using pip version 20.2.4; however, version 21.0.1 is available.\n",
      "You should consider upgrading via the '/opt/conda/bin/python3.7 -m pip install --upgrade pip' command.\u001b[0m\n"
     ]
    }
   ],
   "source": [
    "# installing 1.0.3 because this version of pandas supports write to s3\n",
    "!pip install pandas==1.0.3"
   ]
  },
  {
   "cell_type": "code",
   "execution_count": 1,
   "metadata": {
    "ExecuteTime": {
     "end_time": "2021-04-02T20:45:00.260101Z",
     "start_time": "2021-04-02T20:44:59.563592Z"
    },
    "button": false,
    "collapsed": true,
    "deletable": true,
    "new_sheet": false,
    "run_control": {
     "read_only": false
    }
   },
   "outputs": [],
   "source": [
    "import numpy as np\n",
    "import pandas as pd\n",
    "from sklearn.metrics import f1_score\n",
    "from sklearn.linear_model import LogisticRegression\n",
    "from sklearn.model_selection import train_test_split"
   ]
  },
  {
   "cell_type": "code",
   "execution_count": 2,
   "metadata": {
    "ExecuteTime": {
     "end_time": "2021-04-02T20:45:00.278881Z",
     "start_time": "2021-04-02T20:45:00.262298Z"
    },
    "button": false,
    "collapsed": true,
    "deletable": true,
    "new_sheet": false,
    "run_control": {
     "read_only": false
    }
   },
   "outputs": [],
   "source": [
    "def select_data(data_frame):\n",
    "    '''Selects certain features from raw GCR records.'''\n",
    "    df_selection = data_frame.loc[:,['line_id',\"carrier\",\"plan_name\",'total_kb',\"upgrade\"]]\n",
    "    return df_selection\n",
    "\n",
    "def get_usage_summary(df):\n",
    "    '''Returns aggregate data usage for a line_id.'''\n",
    "    data_kb= df.loc[:,['line_id', \"total_kb\"]]\n",
    "    data_kb = data_kb.groupby('line_id')['total_kb'].sum().reset_index()\n",
    "    data_kb.columns=['line_id','sum_total_kb']\n",
    "    return data_kb\n",
    "\n",
    "def preprocess_customer_info(df):\n",
    "    '''Imputes null values in carrier and plan_name column with most frequent value.'''\n",
    "    customer_info=df.loc[:,['line_id','carrier','plan_name']].drop_duplicates()\n",
    "    customer_info['carrier'].fillna(customer_info['carrier'].mode()[0], inplace=True)\n",
    "    customer_info['plan_name'].fillna(customer_info['plan_name'].mode()[0], inplace=True)\n",
    "    customer_info=pd.get_dummies(customer_info,columns=['carrier','plan_name'],drop_first=True)\n",
    "    return customer_info\n",
    "\n",
    "def train_model(train_X,train_Y):\n",
    "    '''Given a preprocessed training dataset, trains a simple logistic regression model and \n",
    "    returns the trained model object'''\n",
    "    lr_recipe = LogisticRegression(fit_intercept=True,class_weight='balanced')\n",
    "    lr_model = lr_recipe.fit(train_X,train_Y)\n",
    "    return lr_model\n",
    "\n",
    "def evaluate_model(model, test_X,test_Y):\n",
    "    '''Given a model and preprocessed test dataset, returns the f1 value'''\n",
    "    y_pred=model.predict(test_X)\n",
    "    f1 =f1_score(test_Y, y_pred)\n",
    "    return round(f1,3)\n",
    "\n",
    "def main(data_path, random_seed, test_ratio=0.2):\n",
    "    '''The end to end model pipeline'''\n",
    "    df =pd.read_csv(data_path,low_memory=True)    \n",
    "    df_selected = select_data(df)\n",
    "    usage_summary=get_usage_summary(df_selected)\n",
    "    customer_info=preprocess_customer_info(df_selected)\n",
    "    line_ids=df_selected.loc[:,['line_id','upgrade']].drop_duplicates().reset_index(drop=True)\n",
    "    df_preprocessed=pd.merge(line_ids,usage_summary,on='line_id',how='inner')\n",
    "    df_preprocessed=pd.merge(df_preprocessed,customer_info,on='line_id')\n",
    "    df_Y=df_preprocessed['upgrade'].replace({'yes':1,'no':0})\n",
    "    df_X=df_preprocessed.drop(columns=['line_id','upgrade'])\n",
    "    X_train, X_test, Y_train, Y_test = train_test_split(df_X, df_Y, test_size=test_ratio, random_state=random_seed)\n",
    "    num_train = len(X_train)\n",
    "    num_test = len(X_test)\n",
    "    print(f\"Train has {num_train}\")\n",
    "    print(f\"Test has {num_test}\")\n",
    "    model = train_model(X_train,Y_train)\n",
    "    f1 = evaluate_model(model, X_test,Y_test)\n",
    "    return model,f1\n",
    "\n",
    "def make_predictions(model,eval_data_path,submission_path):\n",
    "    '''Given a model, eval data path and submission path, makes predictions and \n",
    "    saves the submissions to submission path.'''\n",
    "    eval_data = pd.read_csv(data_path,low_memory=True)    \n",
    "    df_selected = select_data(eval_data)\n",
    "    usage_summary=get_usage_summary(df_selected)\n",
    "    customer_info=preprocess_customer_info(df_selected)\n",
    "    line_ids=df_selected.loc[:,['line_id']].drop_duplicates().reset_index(drop=True)\n",
    "    df_preprocessed=pd.merge(line_ids,usage_summary,on='line_id',how='inner')\n",
    "    df_preprocessed=pd.merge(df_preprocessed,customer_info,on='line_id')\n",
    "    eval_X=df_preprocessed.drop(columns=['line_id'])\n",
    "    predictions=pd.DataFrame(line_ids,columns=['line_id'])\n",
    "    predictions['prediction']=model.predict(eval_X)\n",
    "    predictions.to_csv(submission_path,header=True,index=None)\n",
    "    print(f\"submission saved to {submission_path}\")"
   ]
  },
  {
   "cell_type": "code",
   "execution_count": 3,
   "metadata": {
    "ExecuteTime": {
     "end_time": "2021-04-02T20:45:14.450838Z",
     "start_time": "2021-04-02T20:45:00.280960Z"
    },
    "button": false,
    "collapsed": false,
    "deletable": true,
    "new_sheet": false,
    "run_control": {
     "read_only": false
    }
   },
   "outputs": [
    {
     "name": "stdout",
     "output_type": "stream",
     "text": [
      "Train has 15256\n",
      "Test has 3815\n",
      "f1-score: 0.055\n"
     ]
    }
   ],
   "source": [
    "# This path will be active after the launch of the hackathon\n",
    "teamname = 'trachack-a-groups-admin-py-tracfone'\n",
    "data_folder='s3://tf-trachack-data/212/'\n",
    "# change root_folder to your team's root folder\n",
    "# s3://tf-trachack-notebooks/<this should be replaced by team name as provided in EMAIL>/jupyter/jovyan/\n",
    "root_folder='s3://tf-trachack-notebooks/'+teamname+'/jupyter/jovyan/'\n",
    "data_path = root_folder+'sample-notebook/dev-sample.csv'\n",
    "seed = 123\n",
    "model,f1 = main(data_path, seed)\n",
    "print(f\"f1-score: {f1}\")"
   ]
  },
  {
   "cell_type": "code",
   "execution_count": 4,
   "metadata": {
    "ExecuteTime": {
     "end_time": "2021-04-02T20:45:23.328285Z",
     "start_time": "2021-04-02T20:45:14.454485Z"
    },
    "button": false,
    "collapsed": false,
    "deletable": true,
    "new_sheet": false,
    "run_control": {
     "read_only": false
    }
   },
   "outputs": [
    {
     "name": "stdout",
     "output_type": "stream",
     "text": [
      "submission saved to s3://tf-trachack-notebooks/trachack-a-groups-admin-py-tracfone/jupyter/jovyan/submission/test-submission.csv\n"
     ]
    }
   ],
   "source": [
    "eval_data_path=root_folder+'sample-notebook/eval-sample.csv'\n",
    "submission_path=root_folder+\"submission/2021-04-05.csv\"\n",
    "make_predictions(model,eval_data_path,submission_path)"
   ]
  },
  {
   "cell_type": "code",
   "execution_count": null,
   "metadata": {
    "button": false,
    "collapsed": true,
    "deletable": true,
    "new_sheet": false,
    "run_control": {
     "read_only": false
    }
   },
   "outputs": [],
   "source": []
  }
 ],
 "metadata": {
  "kernelspec": {
   "display_name": "Python 3",
   "language": "python",
   "name": "python3"
  },
  "language_info": {
   "codemirror_mode": {
    "name": "ipython",
    "version": 3
   },
   "file_extension": ".py",
   "mimetype": "text/x-python",
   "name": "python",
   "nbconvert_exporter": "python",
   "pygments_lexer": "ipython3",
   "version": "3.7.7"
  },
  "toc": {
   "base_numbering": 1,
   "nav_menu": {},
   "number_sections": true,
   "sideBar": true,
   "skip_h1_title": false,
   "title_cell": "Table of Contents",
   "title_sidebar": "Contents",
   "toc_cell": false,
   "toc_position": {},
   "toc_section_display": true,
   "toc_window_display": false
  },
  "varInspector": {
   "cols": {
    "lenName": 16,
    "lenType": 16,
    "lenVar": 40
   },
   "kernels_config": {
    "python": {
     "delete_cmd_postfix": "",
     "delete_cmd_prefix": "del ",
     "library": "var_list.py",
     "varRefreshCmd": "print(var_dic_list())"
    },
    "r": {
     "delete_cmd_postfix": ") ",
     "delete_cmd_prefix": "rm(",
     "library": "var_list.r",
     "varRefreshCmd": "cat(var_dic_list()) "
    }
   },
   "types_to_exclude": [
    "module",
    "function",
    "builtin_function_or_method",
    "instance",
    "_Feature"
   ],
   "window_display": false
  }
 },
 "nbformat": 4,
 "nbformat_minor": 4
}
