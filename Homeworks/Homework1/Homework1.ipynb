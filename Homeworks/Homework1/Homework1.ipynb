{
 "cells": [
  {
   "cell_type": "markdown",
   "id": "brown-advertiser",
   "metadata": {},
   "source": [
    "# Homework 1: Gradient Descent & Friends"
   ]
  },
  {
   "cell_type": "code",
   "execution_count": null,
   "outputs": [],
   "source": [
    "import pandas as pd\n",
    "import numpy as np"
   ],
   "metadata": {
    "collapsed": false,
    "pycharm": {
     "name": "#%%\n"
    }
   }
  },
  {
   "cell_type": "markdown",
   "id": "fixed-wholesale",
   "metadata": {},
   "source": [
    "## Question 1. (Pre-processing)"
   ]
  },
  {
   "cell_type": "markdown",
   "id": "tight-optimization",
   "metadata": {},
   "source": [
    "### (a) Remove any rows of the data that contain a missing (‘NA’) value. List the indices of the removed data points. Then, delete all features from the dataset apart from: age, nearestMRT and nConvenience."
   ]
  },
  {
   "cell_type": "code",
   "execution_count": null,
   "id": "civic-freeze",
   "metadata": {},
   "outputs": [],
   "source": [
    "df = pd.read_csv('real_estate.csv')\n",
    "target_name = \"Real estate\"\n",
    "target = df[target_name]\n"
   ]
  }
 ],
 "metadata": {
  "kernelspec": {
   "display_name": "Python 3",
   "language": "python",
   "name": "python3"
  },
  "language_info": {
   "codemirror_mode": {
    "name": "ipython",
    "version": 3
   },
   "file_extension": ".py",
   "mimetype": "text/x-python",
   "name": "python",
   "nbconvert_exporter": "python",
   "pygments_lexer": "ipython3",
   "version": "3.7.3"
  }
 },
 "nbformat": 4,
 "nbformat_minor": 5
}